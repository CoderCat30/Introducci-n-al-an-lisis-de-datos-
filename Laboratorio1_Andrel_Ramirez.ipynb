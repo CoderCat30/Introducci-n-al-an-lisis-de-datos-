{
  "nbformat": 4,
  "nbformat_minor": 0,
  "metadata": {
    "colab": {
      "provenance": [],
      "authorship_tag": "ABX9TyNJPEDVr76DkD3FBdbl2uq4",
      "include_colab_link": true
    },
    "kernelspec": {
      "name": "python3",
      "display_name": "Python 3"
    },
    "language_info": {
      "name": "python"
    }
  },
  "cells": [
    {
      "cell_type": "markdown",
      "metadata": {
        "id": "view-in-github",
        "colab_type": "text"
      },
      "source": [
        "<a href=\"https://colab.research.google.com/github/CoderCat30/Introducci-n-al-an-lisis-de-datos-/blob/main/Laboratorio1_Andrel_Ramirez.ipynb\" target=\"_parent\"><img src=\"https://colab.research.google.com/assets/colab-badge.svg\" alt=\"Open In Colab\"/></a>"
      ]
    },
    {
      "cell_type": "code",
      "execution_count": null,
      "metadata": {
        "colab": {
          "base_uri": "https://localhost:8080/"
        },
        "id": "NjEfQQdIHHT0",
        "outputId": "bc50bc3d-a9dd-4dc0-a089-9c0576136446"
      },
      "outputs": [
        {
          "output_type": "stream",
          "name": "stdout",
          "text": [
            "Ejercicio #1 Calcular distancia\n",
            "Ingrese la velocidad y el tiempo de la unidad movil\n",
            "Ingrese la velocidad:5\n",
            "Ingrese el tiempo:6\n",
            "La distancia es: 30.0\n"
          ]
        }
      ],
      "source": [
        "print(\"Ejercicio #1 Calcular distancia\")\n",
        "print(\"Ingrese la velocidad y el tiempo de la unidad movil\")\n",
        "v=float(input(\"Ingrese la velocidad:\"))\n",
        "t=float(input(\"Ingrese el tiempo:\"))\n",
        "print(\"La distancia es: \"+str(v*t))"
      ]
    },
    {
      "cell_type": "code",
      "source": [
        "print(\"Ejercicio #2 Calcular un promedio simple de 3 notas\")\n",
        "nota1=float(input(\"Ingrese la nota 1:\"))\n",
        "nota2=int(input(\"Ingrese la nota 2:\"))\n",
        "nota3=int(input(\"Ingrese la nota 3:\"))\n",
        "print(\"El promedio de las notas es: \"+str((nota1+nota2+nota3)/3))"
      ],
      "metadata": {
        "colab": {
          "base_uri": "https://localhost:8080/"
        },
        "id": "RG9021XVItln",
        "outputId": "c42cdd1c-c95c-429f-a00e-613c6717642a"
      },
      "execution_count": null,
      "outputs": [
        {
          "output_type": "stream",
          "name": "stdout",
          "text": [
            "Ejercicio #2 Calcular un promedio simple de 3 notas\n",
            "Ingrese la nota 1:5\n",
            "Ingrese la nota 2:5\n",
            "Ingrese la nota 3:5\n",
            "El promedio de las notas es: 5.0\n"
          ]
        }
      ]
    },
    {
      "cell_type": "code",
      "source": [
        "print(\"Ejercicio #3 Puntaje final\")\n",
        "print(\"Ingrese los puntos correctos, incorrectos y en blanco: \")\n",
        "RC=int(input(\"Ingrese las respuestas correctas:\"))\n",
        "RI=int(input(\"Ingrese las respuestas incorrectas:\"))\n",
        "RB=int(input(\"Ingrese las respuestas en blanco:\"))\n",
        "print(\"El puntaje final es de: \"+str((RC*3)+(RI*-1)))"
      ],
      "metadata": {
        "colab": {
          "base_uri": "https://localhost:8080/"
        },
        "id": "hd0ItmHgKzJm",
        "outputId": "35a771b0-449b-487b-a560-61564dea29a2"
      },
      "execution_count": null,
      "outputs": [
        {
          "output_type": "stream",
          "name": "stdout",
          "text": [
            "Ejercicio #3 Puntaje final\n",
            "Ingrese los puntos correctos, incorrectos y en blanco: \n",
            "Ingrese las respuestas correctas:5\n",
            "Ingrese las respuestas incorrectas:3\n",
            "Ingrese las respuestas en blanco:6\n",
            "El puntaje final es de: 12\n"
          ]
        }
      ]
    }
  ]
}