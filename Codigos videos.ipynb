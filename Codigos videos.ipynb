{
  "nbformat": 4,
  "nbformat_minor": 0,
  "metadata": {
    "colab": {
      "provenance": [],
      "authorship_tag": "ABX9TyOwmkhUW/QGXXoPNIO6F0AW",
      "include_colab_link": true
    },
    "kernelspec": {
      "name": "python3",
      "display_name": "Python 3"
    },
    "language_info": {
      "name": "python"
    },
    "gpuClass": "standard"
  },
  "cells": [
    {
      "cell_type": "markdown",
      "metadata": {
        "id": "view-in-github",
        "colab_type": "text"
      },
      "source": [
        "<a href=\"https://colab.research.google.com/github/CoderCat30/Introducci-n-al-an-lisis-de-datos-/blob/main/Codigos%20videos.ipynb\" target=\"_parent\"><img src=\"https://colab.research.google.com/assets/colab-badge.svg\" alt=\"Open In Colab\"/></a>"
      ]
    },
    {
      "cell_type": "code",
      "execution_count": null,
      "metadata": {
        "id": "SUaLEYfQMSHF"
      },
      "outputs": [],
      "source": [
        "print (\"Ejercicio bisiesto\")\n",
        "anio=int(input(\"Ingrese el año: \"))\n",
        "if(anio % 400 = 0) or (anio % 4 == 0) and (anio % 100 !=0):\n",
        "  print(\"El año no es bisiesto\")"
      ]
    },
    {
      "cell_type": "code",
      "source": [
        "switcher={1:\"Enero\", 2:\"febrero\", 3:\"Marzo\", 4:\"Abril\", 5:\"Mayo\", 6:\"Junio\", 7:\"Julio\", 8:\"Agosto\", 9:\"Septiembre\", 10:\"Octubre\", 11:\"Noviembre\", 12:\"Diciembre\"}\n",
        "argument=int(input(\"Ingrese un número: \"))\n",
        "nameMes=switcher.get(argument,\"Mes inválido\")\n",
        "print(nameMes)"
      ],
      "metadata": {
        "id": "3Z9yIf796rKo"
      },
      "execution_count": null,
      "outputs": []
    },
    {
      "cell_type": "code",
      "source": [
        "#creacion de variables\n",
        "C=-1\n",
        "I=0\n",
        "M=0\n",
        "while(C < 0) or (I <= 0) or (I >= 100) or (M <= 0):\n",
        "  print(\"IOntroduce el capital, el interes y el tiempo apropiados\")\n",
        "  C=int(input(\"Capital: \"))\n",
        "  I=int(input(\"Interes: \"))\n",
        "  A=int(input(\"Tiempo en años: \"))\n",
        "\n",
        "for i in range(M):\n",
        "  C=C*(1+I/100)\n",
        "  print(\"Monto\", C, \"Colones\")"
      ],
      "metadata": {
        "id": "_QmxCTDOQ54w"
      },
      "execution_count": null,
      "outputs": []
    },
    {
      "cell_type": "code",
      "source": [
        "print(\"Digite un numero: \")\n",
        "numero=int(input(\"Numero: \"))\n",
        "\n",
        "suma=0\n",
        "for i in range(1, numero+1):\n",
        "    if(numero % i==0):\n",
        "      suma=suma+i\n",
        "print(suma)"
      ],
      "metadata": {
        "id": "lb1JJp4KTR4f"
      },
      "execution_count": null,
      "outputs": []
    }
  ]
}