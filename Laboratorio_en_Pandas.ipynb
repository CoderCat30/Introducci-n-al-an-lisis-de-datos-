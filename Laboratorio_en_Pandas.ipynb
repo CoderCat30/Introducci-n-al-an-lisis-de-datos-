{
  "nbformat": 4,
  "nbformat_minor": 0,
  "metadata": {
    "colab": {
      "provenance": [],
      "authorship_tag": "ABX9TyP9Yp8UJNL6cYUuV1pq0VWA",
      "include_colab_link": true
    },
    "kernelspec": {
      "name": "python3",
      "display_name": "Python 3"
    },
    "language_info": {
      "name": "python"
    }
  },
  "cells": [
    {
      "cell_type": "markdown",
      "metadata": {
        "id": "view-in-github",
        "colab_type": "text"
      },
      "source": [
        "<a href=\"https://colab.research.google.com/github/CoderCat30/Introducci-n-al-an-lisis-de-datos-/blob/main/Laboratorio_en_Pandas.ipynb\" target=\"_parent\"><img src=\"https://colab.research.google.com/assets/colab-badge.svg\" alt=\"Open In Colab\"/></a>"
      ]
    },
    {
      "cell_type": "code",
      "execution_count": null,
      "metadata": {
        "colab": {
          "base_uri": "https://localhost:8080/"
        },
        "id": "sfCJ_AS5V3ob",
        "outputId": "4bbdb2d7-4a55-46bf-e816-c6365ba9f7e8"
      },
      "outputs": [
        {
          "output_type": "stream",
          "name": "stdout",
          "text": [
            "    Nombre  edad    ciudad seccion\n",
            "0      Ana    23  San Jose       A\n",
            "1  Esteban    22   Heredia       B\n",
            "2     Juan    22   Heredia       A\n",
            "3    Karla    22   Heredia       A\n",
            "4  Ernesto    22   Heredia       B\n",
            "Indexe positions of 22 in DataFrames : \n",
            "(1, 'seccion')\n",
            "(4, 'seccion')\n"
          ]
        }
      ],
      "source": [
        "import pandas as pd\n",
        "\n",
        "students = [('Ana', 23, 'San Jose', 'A'),\n",
        "            ('Esteban', 22, 'Heredia', 'B'), \n",
        "            ('Juan', 22, 'Heredia', 'A'),\n",
        "            ('Karla', 22, 'Heredia', 'A'),\n",
        "            ('Ernesto', 22, 'Heredia', 'B'),]\n",
        "\n",
        "df = pd.DataFrame(students, columns=['Nombre', 'edad', 'ciudad', 'seccion'])\n",
        "\n",
        "print(df)\n",
        "\n",
        "def getIndexes(dfObj, value):\n",
        "  listOfPos = []\n",
        "  result = dfObj.isin([value])\n",
        "  seriesObj = result.any()\n",
        "  columnNames = list(seriesObj[seriesObj == True].index)\n",
        " \n",
        "  for col in columnNames:\n",
        "      rows = list(result[col][result[col] == True].index)\n",
        "      for row in rows:\n",
        "        listOfPos.append((row, col))\n",
        "      return listOfPos\n",
        "\n",
        "listOfPositions = getIndexes(df, 'B')\n",
        "print('Indexe positions of 22 in DataFrames : ')\n",
        "for i in range(len(listOfPositions)):\n",
        "  print(listOfPositions[i])\n",
        "\n",
        "\n",
        "\n",
        "  \n",
        "\n",
        "  #Daniela, Allison, Kenny, Andrel"
      ]
    },
    {
      "cell_type": "code",
      "source": [
        "def getIndexes(dfObj, value):\n",
        "  listOfPos = []\n",
        "  result = dfObj.isin([value])\n",
        "  seriesObj = result.any()\n",
        "  columnNames = list(seriesObj[seriesObj == True].index)\n",
        "\n",
        "  for col in columnNames:\n",
        "      rows = list(result[col][result[col] == True].index)\n",
        "      for row in rows:\n",
        "        listOfPos.append((row, col))\n",
        "      return listOfPos\n"
      ],
      "metadata": {
        "id": "utvXvgPwj__P"
      },
      "execution_count": null,
      "outputs": []
    },
    {
      "cell_type": "code",
      "source": [
        "listOfPositions = getIndexes(df, 'A')\n",
        "print('Indexe positions of 22 in DataFrames : ')\n",
        "for i in range(len(listOfPositions)):\n",
        "  print(listOfPositions[i])"
      ],
      "metadata": {
        "id": "cfgWDkXRlT9n"
      },
      "execution_count": null,
      "outputs": []
    },
    {
      "cell_type": "code",
      "source": [
        "import pandas as pd \n",
        "data = {'Country': ['Costa Rica', 'India', 'Brazil' ],\n",
        "        'Capital': ['San José', 'New Delhi', 'Brasilia'],\n",
        "        'Population': [4500000, 1303171035, 207847528]}\n",
        "df = pd.DataFrame(data,columns=['Country', 'Capital', 'Population'])\n",
        "print(df)"
      ],
      "metadata": {
        "colab": {
          "base_uri": "https://localhost:8080/"
        },
        "id": "1CKptqI4Wz25",
        "outputId": "90e16df2-a469-4bb3-d274-ba23a095daa3"
      },
      "execution_count": null,
      "outputs": [
        {
          "output_type": "stream",
          "name": "stdout",
          "text": [
            "      Country    Capital  Population\n",
            "0  Costa Rica   San José     4500000\n",
            "1       India  New Delhi  1303171035\n",
            "2      Brazil   Brasilia   207847528\n"
          ]
        }
      ]
    },
    {
      "cell_type": "code",
      "source": [
        "print(\"Promedio de los elementos del vector\")\n",
        "suma=0\n",
        "media=0\n",
        "Temp=[]\n",
        "print(\"Ingrese cantidad de tempraturas: \")\n",
        "N=int(input())\n",
        "\n",
        "for i in range(N):\n",
        "  temperatura=float(input(\"Ingrese la temperatura: \"))\n",
        "  Temp.append(temperatura)\n",
        "  suma = suma+Temp[i]\n",
        "media = suma/N\n",
        "print(media)"
      ],
      "metadata": {
        "colab": {
          "base_uri": "https://localhost:8080/"
        },
        "id": "V9xplMDuY1li",
        "outputId": "3ea22fd2-3c1f-4d1d-cd21-231abb474e9f"
      },
      "execution_count": null,
      "outputs": [
        {
          "output_type": "stream",
          "name": "stdout",
          "text": [
            "Promedio de los elementos del vector\n",
            "Ingrese cantidad de tempraturas: \n",
            "3\n",
            "Ingrese la temperatura: 20\n",
            "Ingrese la temperatura: 24\n",
            "Ingrese la temperatura: 23\n",
            "22.333333333333332\n"
          ]
        }
      ]
    },
    {
      "cell_type": "code",
      "source": [
        "import pandas as pd\n",
        "mascota = pd.DataFrame(\n",
        "    data = {\n",
        "        'name': ['Minino', 'Milo', 'Snoppy', 'Blanco', 'LittlePony'],\n",
        "        'type': ['gato', 'perro', 'perro', 'perro', 'caballo']\n",
        "    },\n",
        "    index=[71, 42, 11, 98, 42]\n",
        ")\n",
        "\n",
        "visitas = pd.DataFrame(\n",
        "    data = {\n",
        "        'pet_id': [42, 31, 71, 42, 98, 42], \n",
        "        'fecha': ['2019','2018','2016','2020','2021','2022'],\n",
        "        'costo': [2000, 5000, 1000, 5000, 6000, 10000]\n",
        "    }\n",
        ")\n",
        "\n",
        "mascota.index.rename('pet_id', inplace=True)\n",
        "visitas.index.rename('visit_id', inplace=True)\n",
        "\n",
        "print(mascota.query('pet_id == 42'))\n",
        "\n",
        "print(visitas['costo'].sum())\n",
        "print(visitas['costo'].min())\n",
        "print(visitas['costo'].max())\n",
        "\n",
        "print(visitas)\n",
        "\n",
        "print(visitas.sort_values(by='costo', ascending=False))\n",
        "tienda=pd.merge(mascota, visitas, how= 'cross')\n",
        "print(tienda)"
      ],
      "metadata": {
        "id": "iST2evaxbaQW"
      },
      "execution_count": null,
      "outputs": []
    }
  ]
}